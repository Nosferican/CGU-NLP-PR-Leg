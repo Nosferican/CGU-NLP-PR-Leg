{
 "cells": [
  {
   "cell_type": "markdown",
   "metadata": {},
   "source": [
    "# Objective\n",
    "\n",
    "Create a database for legislative voting records for the Puerto Rico legislature.\n",
    "\n",
    "Similar projects include [GovTrack](https://www.govtrack.us/) and [OpenStates](https://openstates.org/)\n",
    "\n",
    "# Data and Context\n",
    "\n",
    "Puerto Rico has a bicameral legislature. We would like to obtain the voting records in the\n",
    "lower and upper chambers for recent sessions.\n",
    "\n",
    "The record keeping is held by each chamber and the office for legislative services:\n",
    "\n",
    "- [Oficina de Servicios Legislativos](http://www.oslpr.org/buscar/)\n",
    "  - Record is a PDF (image)\n",
    "  - Website uses Javascript/IFrame\n",
    "  - No canonical resource syntax\n",
    "  - Example: [2013 - 2016 P C0003 Final Vote in Lower House](http://www.oslpr.org/2013-2016/%7B7F062C61-27CD-433F-B601-73B4A9306ECE%7D.pdf)\n",
    "- [Lower House](http://www.tucamarapr.org/)\n",
    "  - Record is an HTML table\n",
    "  - Website uses ASPX\n",
    "  - Canonical url builder, but no canonical resource locator\n",
    "  - Example: [2013 - 2016 P C0003 Final Vote in Lower House](http://www.tucamarapr.org/dnncamara/web/actividadlegislativa/votaciones.aspx?measureid=53600&voteid=447)\n",
    "- [Upper House](https://senado.pr.gov/)\n",
    "  - Two ways of obtaining record\n",
    "    - Proceedings\n",
    "      - Record is a PDF (not dedicated)\n",
    "      - Information as text\n",
    "    - Flash Application\n",
    "      - Record is a PDF (formatted)\n",
    "\n",
    "# We'll collect Senate Votes two ways\n",
    "\n",
    "## From App"
   ]
  },
  {
   "cell_type": "code",
   "execution_count": 5,
   "metadata": {},
   "outputs": [
    {
     "name": "stdout",
     "output_type": "stream",
     "text": [
      "\u001b[32m\u001b[1m  Updating\u001b[22m\u001b[39m registry at `~/.julia/registries/General`\n",
      "\u001b[32m\u001b[1m  Updating\u001b[22m\u001b[39m git-repo `https://github.com/JuliaRegistries/General.git`\n",
      "\u001b[2K\u001b[?25h\u001b[32m\u001b[1m Resolving\u001b[22m\u001b[39m package versions...\n"
     ]
    }
   ],
   "source": [
    "using Pkg; Pkg.activate(\".\"); Pkg.instantiate()"
   ]
  },
  {
   "cell_type": "code",
   "execution_count": 3,
   "metadata": {},
   "outputs": [
    {
     "ename": "ArgumentError",
     "evalue": "ArgumentError: Package Cascadia not found in current path:\n- Run `import Pkg; Pkg.add(\"Cascadia\")` to install the Cascadia package.\n",
     "output_type": "error",
     "traceback": [
      "ArgumentError: Package Cascadia not found in current path:\n- Run `import Pkg; Pkg.add(\"Cascadia\")` to install the Cascadia package.\n",
      "",
      "Stacktrace:",
      " [1] require(::Module, ::Symbol) at ./loading.jl:823",
      " [2] top-level scope at In[3]:1"
     ]
    }
   ],
   "source": [
    "using Cascadia, Dates, DataFrames, Gumbo, HTTP, PDFIO"
   ]
  },
  {
   "cell_type": "markdown",
   "metadata": {},
   "source": [
    "# Constants"
   ]
  },
  {
   "cell_type": "code",
   "execution_count": null,
   "metadata": {},
   "outputs": [],
   "source": [
    "const abbreviations = (\"P. de la C.\" => \"P C\",\n",
    "                       \"P. del S.\" => \"P S\",\n",
    "                       \"R. de la C.\" => \"R C\",\n",
    "                       \"R. del S.\" => \"R S\",\n",
    "                       \"R. C. de la C.\" => \"RCC\",\n",
    "                       \"R. C. del S.\" => \"RCS\",\n",
    "                       \"R. C. de la C.\" => \"RCC\",\n",
    "                       \"R. C. del S.\" => \"RCS\",\n",
    "                       \"R. Conc. de la C.\" => \"RKC\",\n",
    "                       \"R. Conc. del S.\" => \"RKS\",\n",
    "                       \"Nombramiento\" => \"N S\",\n",
    "                       \"PC\" => \"P C\",\n",
    "                       \"PS\" => \"P S\",\n",
    "                       \"S. R.\" => \"R S\")\n",
    "const dividers = reduce((x, y) -> \"$x|$y\", string.(\"(\", last.(abreviaciones), \")\")) |>\n",
    "  (x -> Regex(\"\\\\s(?=($x))\"))\n",
    "const spanishmonths = [\"enero\", \"febrero\", \"marzo\", \"abril\", \"mayo\", \"junio\", \"julio\",\n",
    "                       \"agosto\", \"septiembre\", \"octubre\", \"noviembre\", \"diciembre\"]"
   ]
  },
  {
   "cell_type": "code",
   "execution_count": null,
   "metadata": {},
   "outputs": [],
   "source": [
    "function download_senate_precedings()\n",
    "  request = HTTP.get(\"https://www.senado.pr.gov/Pages/Actas-del-Senado.aspx\")\n",
    "  @assert request.status == 200 \"Request did not yield OK\"\n",
    "  body = String(request.body)\n",
    "  html = parsehtml(body)\n",
    "  table = eachmatch(Selector(\"tbody\"), html.root)[1]\n",
    "  mdy = dateformat\"m/d/y\"\n",
    "  for row ∈ table.children\n",
    "    date = Date(nodeText(row[4]), mdy)\n",
    "    if Date(2019, 1, 1) ≤ date < Date(2019, 2, 1)\n",
    "      href = replace(getattr(row[1][2], \"href\"), \" \" => \"%20\")\n",
    "      download(\"https://www.senado.pr.gov$href\",\n",
    "               joinpath(dirname(@__DIR__), \"data\", \"raw\", \"upper\",\n",
    "                        \"proceedings\", \"$date.pdf\"))\n",
    "    end\n",
    "  end\n",
    "end"
   ]
  },
  {
   "cell_type": "code",
   "execution_count": null,
   "metadata": {},
   "outputs": [],
   "source": [
    "function parse_vote_record(lines)\n",
    "  type = abbreviations[findfirst(x -> occursin(x[1], lines[3]), abbreviations)][2]\n",
    "  num = parse(Int, match(r\"\\d+\", lines[3]).match)\n",
    "  date = match(r\"\\d+ de \\w+ de \\d{4}\", lines[4]).match |>\n",
    "    (date -> Date(parse(Int, date[end - 4:end]),\n",
    "                  findfirst(isequal(match(r\"(?<=de )\\w+(?= de)\", date).match),\n",
    "                            spanishmonths),\n",
    "                  parse(Int, match(r\"^\\d+\", date).match)))\n",
    "  votes = strip.(lines[findfirst(x -> occursin(\"Votante\", x), lines) + 1:end - 1])\n",
    "  data = DataFrame(split(vote, r\"\\s{2,}\") |>\n",
    "                   (legid_vote -> (legid = legid_vote[1],\n",
    "                                   vote = legid_vote[2]))\n",
    "                    for vote ∈ votes)\n",
    "  data.type = type\n",
    "  data.number = num\n",
    "  data.date = date\n",
    "  data[[:type,:number,:legid,:vote]]\n",
    "end\n",
    "function vote_record(pdf)\n",
    "  doc = pdDocOpen(pdf)\n",
    "  output = DataFrame([String,Int,String,String], [:type,:number,:legid,:vote], 0)\n",
    "  for i ∈ 1:pdDocGetPageCount(doc)\n",
    "    pdDocGetPage(doc, i) |>\n",
    "    (page -> pdPageExtractText(IOBuffer(append = true), page)) |>\n",
    "    (io -> readlines(io)) |>\n",
    "    parse_vote_record |>\n",
    "    (table -> append!(output, table))\n",
    "  end\n",
    "  pdDocClose(doc)\n",
    "end"
   ]
  },
  {
   "cell_type": "markdown",
   "metadata": {},
   "source": [
    "## Proceedings (Fill In)"
   ]
  },
  {
   "cell_type": "code",
   "execution_count": null,
   "metadata": {},
   "outputs": [],
   "source": [
    "pdf = pdDocOpen(\"data/raw/upper/proceedings/2019-01-14.pdf\")\n",
    "lines = pdDocGetPage(pdf, 1) |>\n",
    "  (x -> pdPageExtractText(IOBuffer(append = true), x)) |>\n",
    "  readlines"
   ]
  }
 ],
 "metadata": {
  "kernelspec": {
   "display_name": "Julia 1.1.0",
   "language": "julia",
   "name": "julia-1.1"
  },
  "language_info": {
   "file_extension": ".jl",
   "mimetype": "application/julia",
   "name": "julia",
   "version": "1.1.0"
  }
 },
 "nbformat": 4,
 "nbformat_minor": 2
}
